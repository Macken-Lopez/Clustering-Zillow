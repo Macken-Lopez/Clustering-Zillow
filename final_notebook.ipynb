{
 "cells": [
  {
   "cell_type": "markdown",
   "metadata": {},
   "source": [
    "# Project_3\n",
    "## Clustering Regression Project\n",
    "\n",
    "\n",
    "#### By Richard Macken & Lazaro Lopez \n",
    "***\n",
    "---"
   ]
  },
  {
   "cell_type": "markdown",
   "metadata": {},
   "source": [
    "# Project Description:\n",
    "### For this project we will continue working with the zillow dataset. Using the 2017 properties and predictions data for single unit / single family homes.\n",
    "\n",
    "### In addition to continuing work on our previous project, we have incorporated clustering methodologies on this project.\n",
    "\n",
    "### Our audience for this project is a data science team. Our presentation will consist of a notebook demo of the discoveries made and illustrating the work we have done related to uncovering what the drivers of log error in the zestimate are.\n",
    "\n",
    "### We documented code, processing (data acquistion, preparation, exploratory data analysis, and statistical testing, modeling, and model evaluation), findings, and reporting key takeaways in a Jupyter Notebook Final Report.\n",
    "\n",
    "### Created modules (acquire.py, prepare.py) that make our process repeateable and our report (notebook) easier to read and follow.\n",
    "\n",
    "### We asked exploratory questions of the data that helped us understand more about the attributes and drivers of log error. We also answer questions through charts and statistical tests.\n",
    "\n",
    "### We constructed a model to predict log error of homes using clustering techniques.\n",
    "\n",
    "### Be prepared to answer panel questions about your code, process, findings and key takeaways, and model.\n",
    "\n",
    "# Our Overall Goal for this Project is to Predict Logerror. \n",
    "---"
   ]
  },
  {
   "cell_type": "markdown",
   "metadata": {},
   "source": [
    "# Project Planning: \n",
    "## a)Create deliverables:\n",
    "### - README\n",
    "### - final_report.ipynb\n",
    "### - working_report.ipynb\n",
    "\n",
    "## b) Build functional wrangle.py, explore.py, and model.py files\n",
    "\n",
    "## c) Acquire the data from the Code Up SQL database via the wrangle.acquire functions\n",
    "\n",
    "## d) Prepare and split the data via the wrangle.prepare functions\n",
    "\n",
    "## e) Explore the data and define hypothesis. Run the appropriate statistical tests in order to accept or reject each null hypothesis. Document findings and takeaways.\n",
    "\n",
    "## f) Create a baseline model in predicting log error .\n",
    "\n",
    "## g) Fit and train regression models to predict log error on the train dataset.\n",
    "\n",
    "## i) Evaluate the models by comparing the train and validation data.\n",
    "\n",
    "## j) Select the best model and evaluate it on the train data.\n",
    "\n",
    "## k) Develop and document all findings, takeaways, recommendations and next steps.\n",
    "\n",
    "***\n",
    "---"
   ]
  },
  {
   "cell_type": "markdown",
   "metadata": {},
   "source": [
    "# Project Outline:\n",
    "## Acquire data\n",
    "## Prepare Data\n",
    "## Explore Data\n",
    "## Create Hypothesis\n",
    "## Test Model \n",
    "## Conclusion\n",
    "***\n",
    "---"
   ]
  },
  {
   "cell_type": "markdown",
   "metadata": {},
   "source": [
    "### Questions we will be asking:\n",
    "\n",
    "Is there a correlation between square footage of a home and log error?\n",
    "\n",
    "Is there a relationship between tax rate and log error?\n",
    "\n",
    "Is Log error is significantly different among the counties of LA County, Orange County and Ventura County?\n",
    "\n",
    "Does log error vary by the age of the house ?\n",
    "***"
   ]
  },
  {
   "cell_type": "code",
   "execution_count": null,
   "metadata": {},
   "outputs": [],
   "source": []
  },
  {
   "cell_type": "code",
   "execution_count": null,
   "metadata": {},
   "outputs": [],
   "source": []
  },
  {
   "cell_type": "markdown",
   "metadata": {},
   "source": [
    "# Acquire & Exploration Phase:\n",
    "***\n",
    "---"
   ]
  },
  {
   "cell_type": "code",
   "execution_count": 1,
   "metadata": {},
   "outputs": [],
   "source": [
    "from final_exploration import *\n",
    "from final_modeling import *\n",
    "\n",
    "\n",
    "alpha=0.05\n",
    "target='logerror'\n",
    "\n",
    "\n",
    "random.seed(123)\n"
   ]
  },
  {
   "cell_type": "code",
   "execution_count": 2,
   "metadata": {},
   "outputs": [
    {
     "name": "stdout",
     "output_type": "stream",
     "text": [
      "We dropped 1765 rows\n"
     ]
    }
   ],
   "source": [
    "\n",
    "\n",
    "\n",
    "partitionslist=partitionslist_with_scaled(scaled_vars = ['latitude', 'longitude', 'bathroomcnt', 'taxrate'])\n"
   ]
  },
  {
   "cell_type": "code",
   "execution_count": 3,
   "metadata": {},
   "outputs": [],
   "source": [
    "\n",
    "#Explore \n",
    "\n",
    "train_la=partitionslist[0][0]\n",
    "orange_train=partitionslist[1][0]\n",
    "ventura_train=partitionslist[2][0]\n"
   ]
  },
  {
   "cell_type": "code",
   "execution_count": null,
   "metadata": {},
   "outputs": [],
   "source": [
    "\n"
   ]
  },
  {
   "cell_type": "markdown",
   "metadata": {},
   "source": [
    "Question 1:\n",
    "\n",
    "Is there a correlation between square footage of a home and log error?\n",
    "\n"
   ]
  },
  {
   "cell_type": "code",
   "execution_count": 4,
   "metadata": {},
   "outputs": [
    {
     "data": {
      "text/latex": [
       "$\\displaystyle H_{0}$"
      ],
      "text/plain": [
       "H_{0}"
      ]
     },
     "metadata": {},
     "output_type": "display_data"
    },
    {
     "data": {
      "text/plain": [
       "'There is zero correlation according to Pearson R '"
      ]
     },
     "metadata": {},
     "output_type": "display_data"
    },
    {
     "data": {
      "text/latex": [
       "$\\displaystyle Reject~H_{0}~?$"
      ],
      "text/plain": [
       "Reject~H_{0}~?"
      ]
     },
     "metadata": {},
     "output_type": "display_data"
    },
    {
     "name": "stdout",
     "output_type": "stream",
     "text": [
      "Yes, we observe that structure_dollar_sqft_bin and logerror show observable correlation by pearsons R:\n",
      "Our r value is:-0.037313842378546944\n",
      "Hence, we reject our null hypothesis\n",
      "\n",
      "\n"
     ]
    }
   ],
   "source": [
    "pearsonsRsquareLogError(train_la,'structure_dollar_sqft_bin')\n"
   ]
  },
  {
   "cell_type": "markdown",
   "metadata": {},
   "source": [
    "Question 2:\n",
    "\n",
    "Is there a relationship between tax rate and log error?\n"
   ]
  },
  {
   "cell_type": "code",
   "execution_count": 5,
   "metadata": {},
   "outputs": [
    {
     "data": {
      "text/latex": [
       "$\\displaystyle H_{0}$"
      ],
      "text/plain": [
       "H_{0}"
      ]
     },
     "metadata": {},
     "output_type": "display_data"
    },
    {
     "data": {
      "text/plain": [
       "'There is zero correlation according to Pearson R '"
      ]
     },
     "metadata": {},
     "output_type": "display_data"
    },
    {
     "data": {
      "text/latex": [
       "$\\displaystyle Reject~H_{0}~?$"
      ],
      "text/plain": [
       "Reject~H_{0}~?"
      ]
     },
     "metadata": {},
     "output_type": "display_data"
    },
    {
     "name": "stdout",
     "output_type": "stream",
     "text": [
      "Yes, we observe that taxrate and logerror show observable correlation by pearsons R:\n",
      "Our r value is:0.020205900971801253\n",
      "Hence, we reject our null hypothesis\n",
      "\n",
      "\n"
     ]
    }
   ],
   "source": [
    "pearsonsRsquareLogError(train_la,'taxrate')\n"
   ]
  },
  {
   "cell_type": "markdown",
   "metadata": {},
   "source": [
    "Question 3:\n",
    "\n",
    "Does log error vary by when the house was sold?"
   ]
  },
  {
   "cell_type": "code",
   "execution_count": 6,
   "metadata": {},
   "outputs": [
    {
     "name": "stdout",
     "output_type": "stream",
     "text": [
      "different 2-combos count:116\n",
      "vs\n",
      "same 2-combos count:1537 \n"
     ]
    },
    {
     "data": {
      "image/png": "[encoded data removed]",
      "text/plain": [
       "<Figure size 432x288 with 1 Axes>"
      ]
     },
     "metadata": {},
     "output_type": "display_data"
    }
   ],
   "source": [
    "interestingcols=['age']\n",
    "samepopdict,diffpopdict,lengthsame,lengthdiff=granulartwocombocomparison(train_la,interestingcols,target,n=100)\n",
    "\n",
    "\n",
    "\n",
    "ageandlogrelpie(lengthsame,lengthdiff)"
   ]
  },
  {
   "cell_type": "markdown",
   "metadata": {},
   "source": [
    "Since age is actually a categorical, we explored every unique age with a sample size of greater than 100.\n",
    "\n",
    "(a conservative sample size to ensure our tests are significant).\n",
    "\n",
    " We ran the levene test then a ttest for indpendence respective to the levene test results. The net results give us a bit more detail than an ANOVA which would allow for deeper inspection.\n",
    " \n",
    " Considering an ANOVA only would answer if any of the samples differ, we can see that it is the case that our logerror overwhelmingly does not vary with age (in LA county)."
   ]
  },
  {
   "cell_type": "markdown",
   "metadata": {},
   "source": [
    "Question 4,5,6:\n",
    "\n",
    "\n",
    "Is Log error is significantly different among the counties of LA County, Orange County and Ventura County?\n",
    "\n",
    "We actually ask three seperate questions here as we compare LA to OC, LA to Ventura and Ventura to OC.\n"
   ]
  },
  {
   "cell_type": "code",
   "execution_count": 7,
   "metadata": {},
   "outputs": [
    {
     "data": {
      "image/png": "[encoded data removed]",
      "text/plain": [
       "<Figure size 432x216 with 2 Axes>"
      ]
     },
     "metadata": {
      "needs_background": "light"
     },
     "output_type": "display_data"
    },
    {
     "data": {
      "text/latex": [
       "$\\displaystyle H_{0}$"
      ],
      "text/plain": [
       "H_{0}"
      ]
     },
     "metadata": {},
     "output_type": "display_data"
    },
    {
     "data": {
      "text/plain": [
       "'The null hypothesis is that our populations are statistically the same.'"
      ]
     },
     "metadata": {},
     "output_type": "display_data"
    },
    {
     "data": {
      "text/latex": [
       "$\\displaystyle Reject~H_{0}~?$"
      ],
      "text/plain": [
       "Reject~H_{0}~?"
      ]
     },
     "metadata": {},
     "output_type": "display_data"
    },
    {
     "name": "stdout",
     "output_type": "stream",
     "text": [
      "No, we observe that ventura_train and orange_train are statistically the same:\n",
      "Hence, we fail to reject our null hypothesis\n",
      "\n",
      "\n"
     ]
    },
    {
     "data": {
      "image/png": "[encoded data removed]",
      "text/plain": [
       "<Figure size 432x216 with 2 Axes>"
      ]
     },
     "metadata": {
      "needs_background": "light"
     },
     "output_type": "display_data"
    },
    {
     "data": {
      "text/latex": [
       "$\\displaystyle H_{0}$"
      ],
      "text/plain": [
       "H_{0}"
      ]
     },
     "metadata": {},
     "output_type": "display_data"
    },
    {
     "data": {
      "text/plain": [
       "'The null hypothesis is that our populations are statistically the same.'"
      ]
     },
     "metadata": {},
     "output_type": "display_data"
    },
    {
     "data": {
      "text/latex": [
       "$\\displaystyle Reject~H_{0}~?$"
      ],
      "text/plain": [
       "Reject~H_{0}~?"
      ]
     },
     "metadata": {},
     "output_type": "display_data"
    },
    {
     "name": "stdout",
     "output_type": "stream",
     "text": [
      "No, we observe that ventura_train and train_la are statistically the same:\n",
      "Hence, we fail to reject our null hypothesis\n",
      "\n",
      "\n"
     ]
    },
    {
     "data": {
      "image/png": "[encoded data removed]",
      "text/plain": [
       "<Figure size 432x216 with 2 Axes>"
      ]
     },
     "metadata": {
      "needs_background": "light"
     },
     "output_type": "display_data"
    },
    {
     "data": {
      "text/latex": [
       "$\\displaystyle H_{0}$"
      ],
      "text/plain": [
       "H_{0}"
      ]
     },
     "metadata": {},
     "output_type": "display_data"
    },
    {
     "data": {
      "text/plain": [
       "'The null hypothesis is that our populations are statistically the same.'"
      ]
     },
     "metadata": {},
     "output_type": "display_data"
    },
    {
     "data": {
      "text/latex": [
       "$\\displaystyle Reject~H_{0}~?$"
      ],
      "text/plain": [
       "Reject~H_{0}~?"
      ]
     },
     "metadata": {},
     "output_type": "display_data"
    },
    {
     "name": "stdout",
     "output_type": "stream",
     "text": [
      "Yes, we observe that orange_train and train_la are statistically different\n",
      "Hence, we reject our null hypothesis\n",
      "\n",
      "\n"
     ]
    }
   ],
   "source": [
    "threeQandA_stats_viz_counties(train_la,orange_train,ventura_train)\n",
    "    "
   ]
  },
  {
   "cell_type": "markdown",
   "metadata": {},
   "source": [
    "We see that LA and OC come from statistically different populations. However Ventura is not indepedent of LA or OC. \n",
    "\n",
    "It should be noted that the sizes of these subpopulations differ by a large degree. As we represent with the pie chart below."
   ]
  },
  {
   "cell_type": "code",
   "execution_count": 19,
   "metadata": {},
   "outputs": [
    {
     "data": {
      "image/png": "[encoded data removed]",
      "text/plain": [
       "<Figure size 432x288 with 1 Axes>"
      ]
     },
     "metadata": {},
     "output_type": "display_data"
    }
   ],
   "source": [
    "county_train_pie(train_la,orange_train,ventura_train)"
   ]
  },
  {
   "cell_type": "code",
   "execution_count": 20,
   "metadata": {},
   "outputs": [],
   "source": [
    "X=partitionslist[0][1:4]\n",
    "\n",
    "train=partitionslist[0][0]"
   ]
  },
  {
   "cell_type": "code",
   "execution_count": 21,
   "metadata": {},
   "outputs": [],
   "source": [
    "\n",
    "\n",
    "\n",
    "\n",
    "\n",
    "\n",
    "# list of variables I will cluster on. \n",
    "cluster_vars = ['scaled_latitude', 'scaled_longitude', 'age_bin']\n",
    "cluster_name = 'area_cluster'\n",
    "k_range = range(2,20)\n",
    "\n",
    "\n",
    "\n"
   ]
  },
  {
   "cell_type": "markdown",
   "metadata": {},
   "source": [
    "# Modeling Phase:\n",
    "***\n",
    "---"
   ]
  },
  {
   "cell_type": "code",
   "execution_count": 22,
   "metadata": {},
   "outputs": [
    {
     "data": {
      "image/png": "[encoded data removed]",
      "text/plain": [
       "<Figure size 432x288 with 1 Axes>"
      ]
     },
     "metadata": {
      "needs_background": "light"
     },
     "output_type": "display_data"
    },
    {
     "data": {
      "image/png": "[encoded data removed]",
      "text/plain": [
       "<Figure size 432x288 with 1 Axes>"
      ]
     },
     "metadata": {
      "needs_background": "light"
     },
     "output_type": "display_data"
    },
    {
     "data": {
      "image/png": "[encoded data removed]",
      "text/plain": [
       "<Figure size 432x288 with 1 Axes>"
      ]
     },
     "metadata": {
      "needs_background": "light"
     },
     "output_type": "display_data"
    }
   ],
   "source": [
    "\n",
    "\n",
    "find_k(X[0], cluster_vars, k_range)\n",
    "\n",
    "\n",
    "\n",
    "k = 5\n",
    "# as reminders: \n",
    "cluster_vars = ['scaled_latitude', 'scaled_longitude', 'age_bin']\n",
    "cluster_name = 'area_cluster'\n",
    "\n",
    "kmeans = create_clusters(X[0], k, cluster_vars)\n",
    "\n",
    "\n",
    "\n"
   ]
  },
  {
   "cell_type": "markdown",
   "metadata": {},
   "source": [
    "It appears that k such that k equals 6,7 or 8 is my best  fit.\n",
    "\n",
    "I am not sure how to obtain that k...."
   ]
  },
  {
   "cell_type": "code",
   "execution_count": 23,
   "metadata": {},
   "outputs": [
    {
     "data": {
      "text/html": [
       "<div>\n",
       "<style scoped>\n",
       "    .dataframe tbody tr th:only-of-type {\n",
       "        vertical-align: middle;\n",
       "    }\n",
       "\n",
       "    .dataframe tbody tr th {\n",
       "        vertical-align: top;\n",
       "    }\n",
       "\n",
       "    .dataframe thead th {\n",
       "        text-align: right;\n",
       "    }\n",
       "</style>\n",
       "<table border=\"1\" class=\"dataframe\">\n",
       "  <thead>\n",
       "    <tr style=\"text-align: right;\">\n",
       "      <th></th>\n",
       "      <th>area_cluster</th>\n",
       "      <th>centroid_scaled_latitude</th>\n",
       "      <th>centroid_scaled_longitude</th>\n",
       "      <th>centroid_age_bin</th>\n",
       "    </tr>\n",
       "  </thead>\n",
       "  <tbody>\n",
       "    <tr>\n",
       "      <th>0</th>\n",
       "      <td>0</td>\n",
       "      <td>0.374394</td>\n",
       "      <td>0.539382</td>\n",
       "      <td>0.441321</td>\n",
       "    </tr>\n",
       "    <tr>\n",
       "      <th>1</th>\n",
       "      <td>1</td>\n",
       "      <td>0.493545</td>\n",
       "      <td>0.499519</td>\n",
       "      <td>0.622766</td>\n",
       "    </tr>\n",
       "    <tr>\n",
       "      <th>2</th>\n",
       "      <td>2</td>\n",
       "      <td>0.592451</td>\n",
       "      <td>0.326064</td>\n",
       "      <td>0.376646</td>\n",
       "    </tr>\n",
       "    <tr>\n",
       "      <th>3</th>\n",
       "      <td>3</td>\n",
       "      <td>0.872779</td>\n",
       "      <td>0.617564</td>\n",
       "      <td>0.236948</td>\n",
       "    </tr>\n",
       "    <tr>\n",
       "      <th>4</th>\n",
       "      <td>4</td>\n",
       "      <td>0.486534</td>\n",
       "      <td>0.780624</td>\n",
       "      <td>0.395415</td>\n",
       "    </tr>\n",
       "  </tbody>\n",
       "</table>\n",
       "</div>"
      ],
      "text/plain": [
       "   area_cluster  centroid_scaled_latitude  centroid_scaled_longitude  \\\n",
       "0             0                  0.374394                   0.539382   \n",
       "1             1                  0.493545                   0.499519   \n",
       "2             2                  0.592451                   0.326064   \n",
       "3             3                  0.872779                   0.617564   \n",
       "4             4                  0.486534                   0.780624   \n",
       "\n",
       "   centroid_age_bin  \n",
       "0          0.441321  \n",
       "1          0.622766  \n",
       "2          0.376646  \n",
       "3          0.236948  \n",
       "4          0.395415  "
      ]
     },
     "execution_count": 23,
     "metadata": {},
     "output_type": "execute_result"
    }
   ],
   "source": [
    "\n",
    "centroid_df = get_centroids(kmeans, cluster_vars, cluster_name)\n",
    "centroid_df\n"
   ]
  },
  {
   "cell_type": "code",
   "execution_count": 24,
   "metadata": {},
   "outputs": [],
   "source": [
    "\n",
    "\n",
    "\n",
    "\n",
    "X = assign_clusters(kmeans, cluster_vars, cluster_name, centroid_df,X)\n"
   ]
  },
  {
   "cell_type": "code",
   "execution_count": 25,
   "metadata": {},
   "outputs": [
    {
     "data": {
      "text/html": [
       "<div>\n",
       "<style scoped>\n",
       "    .dataframe tbody tr th:only-of-type {\n",
       "        vertical-align: middle;\n",
       "    }\n",
       "\n",
       "    .dataframe tbody tr th {\n",
       "        vertical-align: top;\n",
       "    }\n",
       "\n",
       "    .dataframe thead th {\n",
       "        text-align: right;\n",
       "    }\n",
       "</style>\n",
       "<table border=\"1\" class=\"dataframe\">\n",
       "  <thead>\n",
       "    <tr style=\"text-align: right;\">\n",
       "      <th></th>\n",
       "      <th></th>\n",
       "      <th></th>\n",
       "      <th></th>\n",
       "      <th>area_cluster</th>\n",
       "    </tr>\n",
       "    <tr>\n",
       "      <th>area_cluster</th>\n",
       "      <th>centroid_scaled_latitude</th>\n",
       "      <th>centroid_scaled_longitude</th>\n",
       "      <th>centroid_age_bin</th>\n",
       "      <th></th>\n",
       "    </tr>\n",
       "  </thead>\n",
       "  <tbody>\n",
       "    <tr>\n",
       "      <th>0</th>\n",
       "      <th>0.374394</th>\n",
       "      <th>0.539382</th>\n",
       "      <th>0.441321</th>\n",
       "      <td>4501</td>\n",
       "    </tr>\n",
       "    <tr>\n",
       "      <th>1</th>\n",
       "      <th>0.493545</th>\n",
       "      <th>0.499519</th>\n",
       "      <th>0.622766</th>\n",
       "      <td>3833</td>\n",
       "    </tr>\n",
       "    <tr>\n",
       "      <th>2</th>\n",
       "      <th>0.592451</th>\n",
       "      <th>0.326064</th>\n",
       "      <th>0.376646</th>\n",
       "      <td>4645</td>\n",
       "    </tr>\n",
       "    <tr>\n",
       "      <th>3</th>\n",
       "      <th>0.872779</th>\n",
       "      <th>0.617564</th>\n",
       "      <th>0.236948</th>\n",
       "      <td>2018</td>\n",
       "    </tr>\n",
       "    <tr>\n",
       "      <th>4</th>\n",
       "      <th>0.486534</th>\n",
       "      <th>0.780624</th>\n",
       "      <th>0.395415</th>\n",
       "      <td>3296</td>\n",
       "    </tr>\n",
       "  </tbody>\n",
       "</table>\n",
       "</div>"
      ],
      "text/plain": [
       "                                                                                  area_cluster\n",
       "area_cluster centroid_scaled_latitude centroid_scaled_longitude centroid_age_bin              \n",
       "0            0.374394                 0.539382                  0.441321                  4501\n",
       "1            0.493545                 0.499519                  0.622766                  3833\n",
       "2            0.592451                 0.326064                  0.376646                  4645\n",
       "3            0.872779                 0.617564                  0.236948                  2018\n",
       "4            0.486534                 0.780624                  0.395415                  3296"
      ]
     },
     "execution_count": 25,
     "metadata": {},
     "output_type": "execute_result"
    }
   ],
   "source": [
    "\n",
    "pd.DataFrame(X[0].groupby(['area_cluster', 'centroid_scaled_latitude', 'centroid_scaled_longitude', \n",
    "                           'centroid_age_bin'])['area_cluster'].count())\n",
    "\n",
    "\n"
   ]
  },
  {
   "cell_type": "code",
   "execution_count": 26,
   "metadata": {},
   "outputs": [],
   "source": [
    "\n",
    "cluster_vars = ['scaled_bathroomcnt', 'sqft_bin', 'acres_bin', 'bath_bed_ratio']\n",
    "cluster_name = 'size_cluster'\n",
    "k_range = range(2,20)\n",
    "\n"
   ]
  },
  {
   "cell_type": "code",
   "execution_count": 27,
   "metadata": {},
   "outputs": [
    {
     "data": {
      "text/plain": [
       "scaled_bathroomcnt    0\n",
       "sqft_bin              0\n",
       "acres_bin             0\n",
       "bath_bed_ratio        0\n",
       "dtype: int64"
      ]
     },
     "execution_count": 27,
     "metadata": {},
     "output_type": "execute_result"
    }
   ],
   "source": [
    "X[0][cluster_vars].isna().sum()"
   ]
  },
  {
   "cell_type": "code",
   "execution_count": 28,
   "metadata": {},
   "outputs": [],
   "source": [
    "\n",
    "\n",
    "k=7\n",
    "cluster_name = 'size_cluster'\n",
    "cluster_vars = ['scaled_bathroomcnt', 'sqft_bin', 'acres_bin', 'bath_bed_ratio']\n",
    "\n",
    "# fit kmeans \n",
    "kmeans = create_clusters(X[0], k, cluster_vars)\n",
    "\n",
    "# get centroid values per variable per cluster\n",
    "centroid_df = get_centroids(kmeans, cluster_vars, cluster_name)\n",
    "\n",
    "# get cluster assignments and append those with centroids for each X partition (train, validate, test)\n",
    "X = assign_clusters(kmeans, cluster_vars, cluster_name, centroid_df,X)\n",
    "\n",
    "\n",
    "\n",
    "\n",
    "\n",
    "\n",
    "\n",
    "X_train = X[0].iloc[:,0:27]\n",
    "\n",
    "xtrainlist=X_train.columns.to_list()\n",
    "# xtrainlist\n"
   ]
  },
  {
   "cell_type": "code",
   "execution_count": 29,
   "metadata": {},
   "outputs": [
    {
     "data": {
      "text/html": [
       "<div>\n",
       "<style scoped>\n",
       "    .dataframe tbody tr th:only-of-type {\n",
       "        vertical-align: middle;\n",
       "    }\n",
       "\n",
       "    .dataframe tbody tr th {\n",
       "        vertical-align: top;\n",
       "    }\n",
       "\n",
       "    .dataframe thead th {\n",
       "        text-align: right;\n",
       "    }\n",
       "</style>\n",
       "<table border=\"1\" class=\"dataframe\">\n",
       "  <thead>\n",
       "    <tr style=\"text-align: right;\">\n",
       "      <th></th>\n",
       "      <th></th>\n",
       "      <th></th>\n",
       "      <th></th>\n",
       "      <th></th>\n",
       "      <th>size_cluster</th>\n",
       "    </tr>\n",
       "    <tr>\n",
       "      <th>size_cluster</th>\n",
       "      <th>centroid_scaled_bathroomcnt</th>\n",
       "      <th>centroid_sqft_bin</th>\n",
       "      <th>centroid_acres_bin</th>\n",
       "      <th>centroid_bath_bed_ratio</th>\n",
       "      <th></th>\n",
       "    </tr>\n",
       "  </thead>\n",
       "  <tbody>\n",
       "    <tr>\n",
       "      <th>6</th>\n",
       "      <th>0.316457</th>\n",
       "      <th>0.546822</th>\n",
       "      <th>0.220682</th>\n",
       "      <th>0.708589</th>\n",
       "      <td>2785</td>\n",
       "    </tr>\n",
       "  </tbody>\n",
       "</table>\n",
       "</div>"
      ],
      "text/plain": [
       "                                                                                                       size_cluster\n",
       "size_cluster centroid_scaled_bathroomcnt centroid_sqft_bin centroid_acres_bin centroid_bath_bed_ratio              \n",
       "6            0.316457                    0.546822          0.220682           0.708589                         2785"
      ]
     },
     "execution_count": 29,
     "metadata": {},
     "output_type": "execute_result"
    }
   ],
   "source": [
    "\n",
    "\n",
    "pd.DataFrame(X_train[X_train.size_cluster==6].groupby(['size_cluster', 'centroid_scaled_bathroomcnt', 'centroid_sqft_bin',\n",
    "                              'centroid_acres_bin', 'centroid_bath_bed_ratio'])['size_cluster'].count())\n",
    "\n"
   ]
  },
  {
   "cell_type": "markdown",
   "metadata": {},
   "source": [
    "# Laz \n",
    "### This is all me trying to figue out how to fit the clusters. \n",
    "### Still no idea. Once we get the cluster we need, look like 6 we can fit it to the model. Do you know?"
   ]
  },
  {
   "cell_type": "code",
   "execution_count": 30,
   "metadata": {},
   "outputs": [],
   "source": [
    "# grp1=X_train.groupby(['size_cluster', 'centroid_scaled_bathroomcnt', 'centroid_sqft_bin',\n",
    "#                               'centroid_acres_bin', 'centroid_bath_bed_ratio'])['size_cluster']\n",
    "\n"
   ]
  },
  {
   "cell_type": "code",
   "execution_count": 31,
   "metadata": {},
   "outputs": [],
   "source": [
    "\n",
    "# list(grp1.groups.keys())[-1]"
   ]
  },
  {
   "cell_type": "code",
   "execution_count": 32,
   "metadata": {},
   "outputs": [],
   "source": [
    "# pd.DataFrame(grp1.groups.get((6, 0.31645721125074855, 0.5468222621184924, 0.2206822262118493, 0.708588526972728)))\n",
    "\n"
   ]
  },
  {
   "cell_type": "code",
   "execution_count": 33,
   "metadata": {},
   "outputs": [],
   "source": [
    "\n",
    "# plt.figure(figsize=(12,6))\n",
    "# plt.scatter(y=X_train.latitude, x=X_train.longitude, c=X_train.area_cluster, alpha=.4)\n",
    "# plt.scatter(y=X_train.age, x=X_train.longitude, c=X_train.area_cluster, alpha=.4)\n",
    "\n"
   ]
  },
  {
   "cell_type": "code",
   "execution_count": 34,
   "metadata": {},
   "outputs": [],
   "source": [
    "\n",
    "y_train = partitionslist[0][-3]\n",
    "\n",
    "\n",
    "# y_train"
   ]
  },
  {
   "cell_type": "code",
   "execution_count": 35,
   "metadata": {},
   "outputs": [],
   "source": [
    "\n",
    "\n",
    "# plt.scatter(y=y_train.logerror, x=X_train.age, c=X_train.area_cluster, alpha=.7)\n",
    "# plt.ylim(-1,1)\n",
    "# plt.xlabel('Age of Property')\n",
    "# plt.ylabel('Log Error of Zestimate')\n",
    "# plt.title(\"Do clusters reveal differences in age and error?\")\n",
    "\n"
   ]
  },
  {
   "cell_type": "code",
   "execution_count": 36,
   "metadata": {},
   "outputs": [],
   "source": [
    "\n",
    "\n",
    "\n",
    "# sns.boxplot(y=y_train.logerror, x=X_train.area_cluster)\n",
    "# plt.ylim(-1, 1)\n",
    "# # sns.swarmplot(X_train.age_bin, y_train.logerror, hue=X_train.area_cluster)\n",
    "\n",
    "# plt.figure(figsize=(12,6))\n",
    "# # plt.scatter(y=X_train.latitude, x=X_train.longitude, c=X_train.area_cluster, alpha=.4)\n",
    "# plt.scatter(y=y_train.logerror, x=X_train.calculatedfinishedsquarefeet, c=X_train.size_cluster, alpha=.7)\n",
    "# plt.yscale('symlog')\n",
    "# plt.xlabel('Finished Square Feet')\n",
    "# plt.ylabel('Log Error of Zestimate')\n",
    "# plt.title('Is there distinction between clusters when visualizing size of the home by the error in zestimate?')\n",
    "\n",
    "# plt.show()\n",
    "\n"
   ]
  },
  {
   "cell_type": "code",
   "execution_count": 37,
   "metadata": {},
   "outputs": [],
   "source": [
    "\n",
    "\n",
    "plt_df = X_train[['bathroomcnt', 'calculatedfinishedsquarefeet', \n",
    "                    'acres', 'bath_bed_ratio', 'size_cluster']]\n",
    "\n",
    "# sns.pairplot(data=plt_df, hue='size_cluster')\n",
    "\n",
    "\n",
    "\n",
    "# sns.scatterplot(x='bath_bed_ratio', y='calculatedfinishedsquarefeet', \n",
    "#                 data=X_train, hue='size_cluster')\n",
    "\n",
    "# update datatypes of binned values to be float\n",
    "X_train = X_train.astype({'size_cluster': 'category', 'area_cluster': 'category'})\n",
    "\n",
    "\n",
    "dummy_df = pd.get_dummies(X_train[['size_cluster','area_cluster']], dummy_na=False, drop_first=[True, True])\n",
    "\n",
    "# append dummy df cols to the original df. \n",
    "X_train = pd.concat([X_train, dummy_df], axis=1)\n",
    "\n",
    "\n",
    "# plt.scatter(X_train.longitude, X_train.latitude, c = X_train.area_cluster)\n",
    "\n"
   ]
  },
  {
   "cell_type": "code",
   "execution_count": 38,
   "metadata": {},
   "outputs": [
    {
     "data": {
      "text/html": [
       "<div>\n",
       "<style scoped>\n",
       "    .dataframe tbody tr th:only-of-type {\n",
       "        vertical-align: middle;\n",
       "    }\n",
       "\n",
       "    .dataframe tbody tr th {\n",
       "        vertical-align: top;\n",
       "    }\n",
       "\n",
       "    .dataframe thead th {\n",
       "        text-align: right;\n",
       "    }\n",
       "</style>\n",
       "<table border=\"1\" class=\"dataframe\">\n",
       "  <thead>\n",
       "    <tr style=\"text-align: right;\">\n",
       "      <th></th>\n",
       "      <th>bathroomcnt</th>\n",
       "      <th>calculatedfinishedsquarefeet</th>\n",
       "      <th>latitude</th>\n",
       "      <th>longitude</th>\n",
       "      <th>age</th>\n",
       "      <th>age_bin</th>\n",
       "      <th>taxrate</th>\n",
       "      <th>acres</th>\n",
       "      <th>acres_bin</th>\n",
       "      <th>sqft_bin</th>\n",
       "      <th>...</th>\n",
       "      <th>size_cluster_1</th>\n",
       "      <th>size_cluster_2</th>\n",
       "      <th>size_cluster_3</th>\n",
       "      <th>size_cluster_4</th>\n",
       "      <th>size_cluster_5</th>\n",
       "      <th>size_cluster_6</th>\n",
       "      <th>area_cluster_1</th>\n",
       "      <th>area_cluster_2</th>\n",
       "      <th>area_cluster_3</th>\n",
       "      <th>area_cluster_4</th>\n",
       "    </tr>\n",
       "  </thead>\n",
       "  <tbody>\n",
       "    <tr>\n",
       "      <th>38748</th>\n",
       "      <td>3.0</td>\n",
       "      <td>1264.0</td>\n",
       "      <td>33976419.0</td>\n",
       "      <td>-118301352.0</td>\n",
       "      <td>94.0</td>\n",
       "      <td>0.666</td>\n",
       "      <td>1.217797</td>\n",
       "      <td>0.107415</td>\n",
       "      <td>0.1</td>\n",
       "      <td>0.3</td>\n",
       "      <td>...</td>\n",
       "      <td>0</td>\n",
       "      <td>0</td>\n",
       "      <td>0</td>\n",
       "      <td>0</td>\n",
       "      <td>0</td>\n",
       "      <td>0</td>\n",
       "      <td>1</td>\n",
       "      <td>0</td>\n",
       "      <td>0</td>\n",
       "      <td>0</td>\n",
       "    </tr>\n",
       "    <tr>\n",
       "      <th>19330</th>\n",
       "      <td>2.0</td>\n",
       "      <td>1300.0</td>\n",
       "      <td>34120981.0</td>\n",
       "      <td>-118346117.0</td>\n",
       "      <td>58.0</td>\n",
       "      <td>0.400</td>\n",
       "      <td>1.208293</td>\n",
       "      <td>0.281566</td>\n",
       "      <td>0.3</td>\n",
       "      <td>0.3</td>\n",
       "      <td>...</td>\n",
       "      <td>0</td>\n",
       "      <td>0</td>\n",
       "      <td>0</td>\n",
       "      <td>0</td>\n",
       "      <td>0</td>\n",
       "      <td>0</td>\n",
       "      <td>1</td>\n",
       "      <td>0</td>\n",
       "      <td>0</td>\n",
       "      <td>0</td>\n",
       "    </tr>\n",
       "    <tr>\n",
       "      <th>46192</th>\n",
       "      <td>5.0</td>\n",
       "      <td>2872.0</td>\n",
       "      <td>34141910.0</td>\n",
       "      <td>-118433056.0</td>\n",
       "      <td>90.0</td>\n",
       "      <td>0.600</td>\n",
       "      <td>1.242053</td>\n",
       "      <td>0.200964</td>\n",
       "      <td>0.2</td>\n",
       "      <td>0.6</td>\n",
       "      <td>...</td>\n",
       "      <td>0</td>\n",
       "      <td>0</td>\n",
       "      <td>0</td>\n",
       "      <td>0</td>\n",
       "      <td>0</td>\n",
       "      <td>0</td>\n",
       "      <td>1</td>\n",
       "      <td>0</td>\n",
       "      <td>0</td>\n",
       "      <td>0</td>\n",
       "    </tr>\n",
       "    <tr>\n",
       "      <th>22550</th>\n",
       "      <td>2.0</td>\n",
       "      <td>1344.0</td>\n",
       "      <td>34105184.0</td>\n",
       "      <td>-118377389.0</td>\n",
       "      <td>65.0</td>\n",
       "      <td>0.466</td>\n",
       "      <td>1.201040</td>\n",
       "      <td>0.080372</td>\n",
       "      <td>0.0</td>\n",
       "      <td>0.3</td>\n",
       "      <td>...</td>\n",
       "      <td>0</td>\n",
       "      <td>0</td>\n",
       "      <td>0</td>\n",
       "      <td>0</td>\n",
       "      <td>0</td>\n",
       "      <td>0</td>\n",
       "      <td>1</td>\n",
       "      <td>0</td>\n",
       "      <td>0</td>\n",
       "      <td>0</td>\n",
       "    </tr>\n",
       "    <tr>\n",
       "      <th>45428</th>\n",
       "      <td>4.0</td>\n",
       "      <td>3730.0</td>\n",
       "      <td>34125421.0</td>\n",
       "      <td>-118030828.0</td>\n",
       "      <td>28.0</td>\n",
       "      <td>0.200</td>\n",
       "      <td>1.146520</td>\n",
       "      <td>0.194812</td>\n",
       "      <td>0.2</td>\n",
       "      <td>0.7</td>\n",
       "      <td>...</td>\n",
       "      <td>0</td>\n",
       "      <td>0</td>\n",
       "      <td>0</td>\n",
       "      <td>0</td>\n",
       "      <td>0</td>\n",
       "      <td>0</td>\n",
       "      <td>1</td>\n",
       "      <td>0</td>\n",
       "      <td>0</td>\n",
       "      <td>0</td>\n",
       "    </tr>\n",
       "  </tbody>\n",
       "</table>\n",
       "<p>5 rows × 37 columns</p>\n",
       "</div>"
      ],
      "text/plain": [
       "       bathroomcnt  calculatedfinishedsquarefeet    latitude    longitude  \\\n",
       "38748          3.0                        1264.0  33976419.0 -118301352.0   \n",
       "19330          2.0                        1300.0  34120981.0 -118346117.0   \n",
       "46192          5.0                        2872.0  34141910.0 -118433056.0   \n",
       "22550          2.0                        1344.0  34105184.0 -118377389.0   \n",
       "45428          4.0                        3730.0  34125421.0 -118030828.0   \n",
       "\n",
       "        age  age_bin   taxrate     acres  acres_bin  sqft_bin  ...  \\\n",
       "38748  94.0    0.666  1.217797  0.107415        0.1       0.3  ...   \n",
       "19330  58.0    0.400  1.208293  0.281566        0.3       0.3  ...   \n",
       "46192  90.0    0.600  1.242053  0.200964        0.2       0.6  ...   \n",
       "22550  65.0    0.466  1.201040  0.080372        0.0       0.3  ...   \n",
       "45428  28.0    0.200  1.146520  0.194812        0.2       0.7  ...   \n",
       "\n",
       "       size_cluster_1  size_cluster_2  size_cluster_3  size_cluster_4  \\\n",
       "38748               0               0               0               0   \n",
       "19330               0               0               0               0   \n",
       "46192               0               0               0               0   \n",
       "22550               0               0               0               0   \n",
       "45428               0               0               0               0   \n",
       "\n",
       "       size_cluster_5  size_cluster_6  area_cluster_1  area_cluster_2  \\\n",
       "38748               0               0               1               0   \n",
       "19330               0               0               1               0   \n",
       "46192               0               0               1               0   \n",
       "22550               0               0               1               0   \n",
       "45428               0               0               1               0   \n",
       "\n",
       "      area_cluster_3  area_cluster_4  \n",
       "38748              0               0  \n",
       "19330              0               0  \n",
       "46192              0               0  \n",
       "22550              0               0  \n",
       "45428              0               0  \n",
       "\n",
       "[5 rows x 37 columns]"
      ]
     },
     "execution_count": 38,
     "metadata": {},
     "output_type": "execute_result"
    }
   ],
   "source": [
    "\n",
    "# X_train.groupby(['area_cluster_id', 'size_cluster_id'])['structure_dollar_per_sqft']\n",
    "X_train.head()"
   ]
  },
  {
   "cell_type": "code",
   "execution_count": null,
   "metadata": {},
   "outputs": [],
   "source": []
  },
  {
   "cell_type": "code",
   "execution_count": 44,
   "metadata": {},
   "outputs": [
    {
     "name": "stdout",
     "output_type": "stream",
     "text": [
      "We dropped 1765 rows\n"
     ]
    },
    {
     "data": {
      "text/html": [
       "<div>\n",
       "<style scoped>\n",
       "    .dataframe tbody tr th:only-of-type {\n",
       "        vertical-align: middle;\n",
       "    }\n",
       "\n",
       "    .dataframe tbody tr th {\n",
       "        vertical-align: top;\n",
       "    }\n",
       "\n",
       "    .dataframe thead th {\n",
       "        text-align: right;\n",
       "    }\n",
       "</style>\n",
       "<table border=\"1\" class=\"dataframe\">\n",
       "  <thead>\n",
       "    <tr style=\"text-align: right;\">\n",
       "      <th></th>\n",
       "      <th>Train</th>\n",
       "      <th>Validate</th>\n",
       "      <th>diff</th>\n",
       "      <th>abs_diff</th>\n",
       "      <th>abs_percent_change</th>\n",
       "    </tr>\n",
       "  </thead>\n",
       "  <tbody>\n",
       "    <tr>\n",
       "      <th>RMSE for degree6 Polynomial Model</th>\n",
       "      <td>0.162950</td>\n",
       "      <td>0.162608</td>\n",
       "      <td>0.000342</td>\n",
       "      <td>0.000342</td>\n",
       "      <td>0.209789</td>\n",
       "    </tr>\n",
       "    <tr>\n",
       "      <th>RMSE for degree5 Polynomial Model</th>\n",
       "      <td>0.163366</td>\n",
       "      <td>0.151804</td>\n",
       "      <td>0.011561</td>\n",
       "      <td>0.011561</td>\n",
       "      <td>7.077024</td>\n",
       "    </tr>\n",
       "    <tr>\n",
       "      <th>RMSE for degree4 Polynomial Model</th>\n",
       "      <td>0.163870</td>\n",
       "      <td>0.151262</td>\n",
       "      <td>0.012608</td>\n",
       "      <td>0.012608</td>\n",
       "      <td>7.693663</td>\n",
       "    </tr>\n",
       "    <tr>\n",
       "      <th>RMSE for degree3 Polynomial Model</th>\n",
       "      <td>0.164080</td>\n",
       "      <td>0.151316</td>\n",
       "      <td>0.012764</td>\n",
       "      <td>0.012764</td>\n",
       "      <td>7.779134</td>\n",
       "    </tr>\n",
       "    <tr>\n",
       "      <th>RMSE using Median</th>\n",
       "      <td>0.164701</td>\n",
       "      <td>0.151908</td>\n",
       "      <td>0.012792</td>\n",
       "      <td>0.012792</td>\n",
       "      <td>7.767078</td>\n",
       "    </tr>\n",
       "    <tr>\n",
       "      <th>RMSE using Mode</th>\n",
       "      <td>0.164701</td>\n",
       "      <td>0.151908</td>\n",
       "      <td>0.012792</td>\n",
       "      <td>0.012792</td>\n",
       "      <td>7.767078</td>\n",
       "    </tr>\n",
       "    <tr>\n",
       "      <th>RMSE using Mean</th>\n",
       "      <td>0.164499</td>\n",
       "      <td>0.151660</td>\n",
       "      <td>0.012839</td>\n",
       "      <td>0.012839</td>\n",
       "      <td>7.804708</td>\n",
       "    </tr>\n",
       "    <tr>\n",
       "      <th>RMSE for Elastic Net Model</th>\n",
       "      <td>0.164499</td>\n",
       "      <td>0.151660</td>\n",
       "      <td>0.012839</td>\n",
       "      <td>0.012839</td>\n",
       "      <td>7.804708</td>\n",
       "    </tr>\n",
       "    <tr>\n",
       "      <th>RMSE for Lasso + Lars</th>\n",
       "      <td>0.164499</td>\n",
       "      <td>0.151660</td>\n",
       "      <td>0.012839</td>\n",
       "      <td>0.012839</td>\n",
       "      <td>7.804708</td>\n",
       "    </tr>\n",
       "    <tr>\n",
       "      <th>RMSE for 2nd Degree Polynomial Model</th>\n",
       "      <td>0.164262</td>\n",
       "      <td>0.151367</td>\n",
       "      <td>0.012896</td>\n",
       "      <td>0.012896</td>\n",
       "      <td>7.850614</td>\n",
       "    </tr>\n",
       "    <tr>\n",
       "      <th>RMSE for ARDRegression</th>\n",
       "      <td>0.164418</td>\n",
       "      <td>0.151518</td>\n",
       "      <td>0.012900</td>\n",
       "      <td>0.012900</td>\n",
       "      <td>7.845845</td>\n",
       "    </tr>\n",
       "    <tr>\n",
       "      <th>BayesianRidge</th>\n",
       "      <td>0.164411</td>\n",
       "      <td>0.151486</td>\n",
       "      <td>0.012925</td>\n",
       "      <td>0.012925</td>\n",
       "      <td>7.861316</td>\n",
       "    </tr>\n",
       "    <tr>\n",
       "      <th>RMSE for OLM</th>\n",
       "      <td>0.164399</td>\n",
       "      <td>0.151459</td>\n",
       "      <td>0.012940</td>\n",
       "      <td>0.012940</td>\n",
       "      <td>7.870953</td>\n",
       "    </tr>\n",
       "    <tr>\n",
       "      <th>RMSE for LassoLarsIC</th>\n",
       "      <td>0.164399</td>\n",
       "      <td>0.151459</td>\n",
       "      <td>0.012940</td>\n",
       "      <td>0.012940</td>\n",
       "      <td>7.870953</td>\n",
       "    </tr>\n",
       "    <tr>\n",
       "      <th>RMSE for degree7 Polynomial Model</th>\n",
       "      <td>0.162225</td>\n",
       "      <td>0.420686</td>\n",
       "      <td>-0.258461</td>\n",
       "      <td>0.258461</td>\n",
       "      <td>159.323123</td>\n",
       "    </tr>\n",
       "    <tr>\n",
       "      <th>RMSE for degree8 Polynomial Model</th>\n",
       "      <td>0.161256</td>\n",
       "      <td>14.234101</td>\n",
       "      <td>-14.072845</td>\n",
       "      <td>14.072845</td>\n",
       "      <td>8727.025312</td>\n",
       "    </tr>\n",
       "  </tbody>\n",
       "</table>\n",
       "</div>"
      ],
      "text/plain": [
       "                                         Train   Validate       diff  \\\n",
       "RMSE for degree6 Polynomial Model     0.162950   0.162608   0.000342   \n",
       "RMSE for degree5 Polynomial Model     0.163366   0.151804   0.011561   \n",
       "RMSE for degree4 Polynomial Model     0.163870   0.151262   0.012608   \n",
       "RMSE for degree3 Polynomial Model     0.164080   0.151316   0.012764   \n",
       "RMSE using Median                     0.164701   0.151908   0.012792   \n",
       "RMSE using Mode                       0.164701   0.151908   0.012792   \n",
       "RMSE using Mean                       0.164499   0.151660   0.012839   \n",
       "RMSE for Elastic Net Model            0.164499   0.151660   0.012839   \n",
       "RMSE for Lasso + Lars                 0.164499   0.151660   0.012839   \n",
       "RMSE for 2nd Degree Polynomial Model  0.164262   0.151367   0.012896   \n",
       "RMSE for ARDRegression                0.164418   0.151518   0.012900   \n",
       "BayesianRidge                         0.164411   0.151486   0.012925   \n",
       "RMSE for OLM                          0.164399   0.151459   0.012940   \n",
       "RMSE for LassoLarsIC                  0.164399   0.151459   0.012940   \n",
       "RMSE for degree7 Polynomial Model     0.162225   0.420686  -0.258461   \n",
       "RMSE for degree8 Polynomial Model     0.161256  14.234101 -14.072845   \n",
       "\n",
       "                                       abs_diff  abs_percent_change  \n",
       "RMSE for degree6 Polynomial Model      0.000342            0.209789  \n",
       "RMSE for degree5 Polynomial Model      0.011561            7.077024  \n",
       "RMSE for degree4 Polynomial Model      0.012608            7.693663  \n",
       "RMSE for degree3 Polynomial Model      0.012764            7.779134  \n",
       "RMSE using Median                      0.012792            7.767078  \n",
       "RMSE using Mode                        0.012792            7.767078  \n",
       "RMSE using Mean                        0.012839            7.804708  \n",
       "RMSE for Elastic Net Model             0.012839            7.804708  \n",
       "RMSE for Lasso + Lars                  0.012839            7.804708  \n",
       "RMSE for 2nd Degree Polynomial Model   0.012896            7.850614  \n",
       "RMSE for ARDRegression                 0.012900            7.845845  \n",
       "BayesianRidge                          0.012925            7.861316  \n",
       "RMSE for OLM                           0.012940            7.870953  \n",
       "RMSE for LassoLarsIC                   0.012940            7.870953  \n",
       "RMSE for degree7 Polynomial Model      0.258461          159.323123  \n",
       "RMSE for degree8 Polynomial Model     14.072845         8727.025312  "
      ]
     },
     "execution_count": 44,
     "metadata": {},
     "output_type": "execute_result"
    }
   ],
   "source": [
    "\n",
    "\n",
    "\n",
    "\n",
    "\n",
    "\n",
    "\n",
    "cols=['scaled_latitude', 'scaled_longitude', 'scaled_bathroomcnt', 'scaled_taxrate']\n",
    "dbscancols=[ 'scaled_longitude', 'scaled_bathroomcnt',  'dbscan']\n",
    "kmeanscols=[ 'scaled_longitude', 'scaled_bathroomcnt',  'kmeans']\n",
    "\n",
    "\n",
    "\n",
    "partitionslist=partitionslist_with_scaled(scaled_vars = ['latitude', 'longitude', 'bathroomcnt', 'taxrate'])\n",
    "mvp=['scaled_latitude', 'scaled_longitude', 'scaled_bathroomcnt',\n",
    "       'scaled_taxrate']\n",
    "\n",
    "train,X_train, X_validate, X_test, y_train, y_validate, y_test=partitionslist[0]\n",
    "\n",
    "#This step is to ensure we only send scaled data to the model\n",
    "MVPlist=mvpXforModels(partitionslist,mvp)\n",
    "X_train, X_validate, X_test=MVPlist[0]       \n",
    "\n",
    "rmseDF=regmodelbest(X_train, X_validate, X_test, y_train, y_validate, y_test,random=123)\n",
    "rmseDF\n",
    "\n",
    "\n",
    "\n"
   ]
  },
  {
   "cell_type": "code",
   "execution_count": 43,
   "metadata": {},
   "outputs": [
    {
     "data": {
      "image/png": "[encoded data removed]",
      "text/plain": [
       "<Figure size 1152x576 with 1 Axes>"
      ]
     },
     "metadata": {
      "needs_background": "light"
     },
     "output_type": "display_data"
    },
    {
     "data": {
      "text/html": [
       "<div>\n",
       "<style scoped>\n",
       "    .dataframe tbody tr th:only-of-type {\n",
       "        vertical-align: middle;\n",
       "    }\n",
       "\n",
       "    .dataframe tbody tr th {\n",
       "        vertical-align: top;\n",
       "    }\n",
       "\n",
       "    .dataframe thead th {\n",
       "        text-align: right;\n",
       "    }\n",
       "</style>\n",
       "<table border=\"1\" class=\"dataframe\">\n",
       "  <thead>\n",
       "    <tr style=\"text-align: right;\">\n",
       "      <th></th>\n",
       "      <th>Train</th>\n",
       "      <th>Validate</th>\n",
       "      <th>Test</th>\n",
       "      <th>Train_to_Val_diff</th>\n",
       "      <th>Train_to_Val_abs_diff</th>\n",
       "      <th>Train_to_Test_diff</th>\n",
       "      <th>Train_to_Test_abs_diff</th>\n",
       "    </tr>\n",
       "  </thead>\n",
       "  <tbody>\n",
       "    <tr>\n",
       "      <th>RMSE for degree6 Polynomial Model</th>\n",
       "      <td>0.160203</td>\n",
       "      <td>162897.83089</td>\n",
       "      <td>483882.992801</td>\n",
       "      <td>-162897.670687</td>\n",
       "      <td>162897.670687</td>\n",
       "      <td>-483882.832598</td>\n",
       "      <td>483882.832598</td>\n",
       "    </tr>\n",
       "  </tbody>\n",
       "</table>\n",
       "</div>"
      ],
      "text/plain": [
       "                                      Train      Validate           Test  \\\n",
       "RMSE for degree6 Polynomial Model  0.160203  162897.83089  483882.992801   \n",
       "\n",
       "                                   Train_to_Val_diff  Train_to_Val_abs_diff  \\\n",
       "RMSE for degree6 Polynomial Model     -162897.670687          162897.670687   \n",
       "\n",
       "                                   Train_to_Test_diff  Train_to_Test_abs_diff  \n",
       "RMSE for degree6 Polynomial Model      -483882.832598           483882.832598  "
      ]
     },
     "execution_count": 43,
     "metadata": {},
     "output_type": "execute_result"
    }
   ],
   "source": [
    "LArmseDF=LATest(X_train,X_validate,X_test,y_train,y_validate,y_test)\n",
    "\n",
    "LArmseDF"
   ]
  },
  {
   "cell_type": "code",
   "execution_count": 40,
   "metadata": {},
   "outputs": [],
   "source": [
    "\n",
    "\n",
    "dbscan = DBSCAN(eps=0.123, min_samples = 2)\n",
    "X_train['dbscan'] = dbscan.fit_predict(X_train[cols])\n",
    "X_validate['dbscan'] = dbscan.fit_predict(X_validate[cols])\n",
    "X_test['dbscan'] = dbscan.fit_predict(X_test[cols])\n",
    "# kmeans_degree6 = pf6.transform(kmeans_degree6)\n",
    "\n",
    "\n",
    "\n",
    "kmeans = KMeans(n_clusters=6)\n",
    "X_train['kmeans'] = kmeans.fit_predict(X_train[cols])\n",
    "X_validate['kmeans'] = kmeans.fit_predict(X_validate[cols])\n",
    "X_test['kmeans'] = kmeans.fit_predict(X_test[cols])\n",
    "# dbscan_degree6 = pf6.transform(dbscan_degree6)\n",
    "\n"
   ]
  },
  {
   "cell_type": "code",
   "execution_count": 41,
   "metadata": {},
   "outputs": [
    {
     "data": {
      "image/png": "[encoded data removed]",
      "text/plain": [
       "<Figure size 1152x576 with 1 Axes>"
      ]
     },
     "metadata": {
      "needs_background": "light"
     },
     "output_type": "display_data"
    },
    {
     "data": {
      "text/html": [
       "<div>\n",
       "<style scoped>\n",
       "    .dataframe tbody tr th:only-of-type {\n",
       "        vertical-align: middle;\n",
       "    }\n",
       "\n",
       "    .dataframe tbody tr th {\n",
       "        vertical-align: top;\n",
       "    }\n",
       "\n",
       "    .dataframe thead th {\n",
       "        text-align: right;\n",
       "    }\n",
       "</style>\n",
       "<table border=\"1\" class=\"dataframe\">\n",
       "  <thead>\n",
       "    <tr style=\"text-align: right;\">\n",
       "      <th></th>\n",
       "      <th>Train</th>\n",
       "      <th>Validate</th>\n",
       "      <th>Test</th>\n",
       "      <th>Train_to_Val_diff</th>\n",
       "      <th>Train_to_Val_abs_diff</th>\n",
       "      <th>Train_to_Test_diff</th>\n",
       "      <th>Train_to_Test_abs_diff</th>\n",
       "    </tr>\n",
       "  </thead>\n",
       "  <tbody>\n",
       "    <tr>\n",
       "      <th>RMSE for degree6 Polynomial Model</th>\n",
       "      <td>0.163895</td>\n",
       "      <td>178438.512845</td>\n",
       "      <td>149101.828389</td>\n",
       "      <td>-178438.348951</td>\n",
       "      <td>178438.348951</td>\n",
       "      <td>-149101.664494</td>\n",
       "      <td>149101.664494</td>\n",
       "    </tr>\n",
       "  </tbody>\n",
       "</table>\n",
       "</div>"
      ],
      "text/plain": [
       "                                      Train       Validate           Test  \\\n",
       "RMSE for degree6 Polynomial Model  0.163895  178438.512845  149101.828389   \n",
       "\n",
       "                                   Train_to_Val_diff  Train_to_Val_abs_diff  \\\n",
       "RMSE for degree6 Polynomial Model     -178438.348951          178438.348951   \n",
       "\n",
       "                                   Train_to_Test_diff  Train_to_Test_abs_diff  \n",
       "RMSE for degree6 Polynomial Model      -149101.664494           149101.664494  "
      ]
     },
     "execution_count": 41,
     "metadata": {},
     "output_type": "execute_result"
    }
   ],
   "source": [
    "\n",
    "dbclusterRSME=LATest(X_train[dbscancols],X_validate[dbscancols],X_test[dbscancols],y_train,y_validate,y_test)\n",
    "\n",
    "dbclusterRSME\n",
    "\n",
    "\n"
   ]
  },
  {
   "cell_type": "code",
   "execution_count": 42,
   "metadata": {},
   "outputs": [
    {
     "data": {
      "image/png": "[encoded data removed]",
      "text/plain": [
       "<Figure size 1152x576 with 1 Axes>"
      ]
     },
     "metadata": {
      "needs_background": "light"
     },
     "output_type": "display_data"
    },
    {
     "data": {
      "text/html": [
       "<div>\n",
       "<style scoped>\n",
       "    .dataframe tbody tr th:only-of-type {\n",
       "        vertical-align: middle;\n",
       "    }\n",
       "\n",
       "    .dataframe tbody tr th {\n",
       "        vertical-align: top;\n",
       "    }\n",
       "\n",
       "    .dataframe thead th {\n",
       "        text-align: right;\n",
       "    }\n",
       "</style>\n",
       "<table border=\"1\" class=\"dataframe\">\n",
       "  <thead>\n",
       "    <tr style=\"text-align: right;\">\n",
       "      <th></th>\n",
       "      <th>Train</th>\n",
       "      <th>Validate</th>\n",
       "      <th>Test</th>\n",
       "      <th>Train_to_Val_diff</th>\n",
       "      <th>Train_to_Val_abs_diff</th>\n",
       "      <th>Train_to_Test_diff</th>\n",
       "      <th>Train_to_Test_abs_diff</th>\n",
       "    </tr>\n",
       "  </thead>\n",
       "  <tbody>\n",
       "    <tr>\n",
       "      <th>RMSE for degree6 Polynomial Model</th>\n",
       "      <td>0.163892</td>\n",
       "      <td>58492.870665</td>\n",
       "      <td>663700.944781</td>\n",
       "      <td>-58492.706773</td>\n",
       "      <td>58492.706773</td>\n",
       "      <td>-663700.780889</td>\n",
       "      <td>663700.780889</td>\n",
       "    </tr>\n",
       "  </tbody>\n",
       "</table>\n",
       "</div>"
      ],
      "text/plain": [
       "                                      Train      Validate           Test  \\\n",
       "RMSE for degree6 Polynomial Model  0.163892  58492.870665  663700.944781   \n",
       "\n",
       "                                   Train_to_Val_diff  Train_to_Val_abs_diff  \\\n",
       "RMSE for degree6 Polynomial Model      -58492.706773           58492.706773   \n",
       "\n",
       "                                   Train_to_Test_diff  Train_to_Test_abs_diff  \n",
       "RMSE for degree6 Polynomial Model      -663700.780889           663700.780889  "
      ]
     },
     "execution_count": 42,
     "metadata": {},
     "output_type": "execute_result"
    }
   ],
   "source": [
    "\n",
    "\n",
    "KmeansclusterRSME=LATest(X_train[kmeanscols],X_validate[kmeanscols],X_test[kmeanscols],y_train,y_validate,y_test)\n",
    "\n",
    "KmeansclusterRSME\n"
   ]
  },
  {
   "cell_type": "markdown",
   "metadata": {},
   "source": [
    "# Conclusion:\n",
    "## Cursory Cluster was not benifical caused what appears to be over fitting. Our models are likely overfit because it is a 6 Degree Polynomial. \n",
    "\n",
    "# With more time we would like to:\n",
    "\n",
    "## We would like to work on optimizing our clustering algorithims. I would like to create better loop structures to find the optimal cluster sizes. \n",
    "***\n",
    "---"
   ]
  },
  {
   "cell_type": "markdown",
   "metadata": {},
   "source": [
    "### Steps to Reproduce\n",
    "You need to copy our included files ending with .ipynb and .py. Then add a .env file with the format below.\n",
    "```python\n",
    "\n",
    "host='xxxxx'\n",
    "username='xxxxxx'\n",
    "password='xxxxxx'\n",
    "## Where the strings are your respective credentials to the codeUp SQL server\n",
    "\n",
    "```\n",
    "\n",
    "For example:\n",
    "\n",
    "1)You will need an env.py file that contains the hostname, username and password of the mySQL database that contains the titanic_db.passengers table. Store that env file locally in the repository.\n",
    "\n",
    "2)clone my repo (including the wrangle.py, explore.py, and model.py) (confirm .gitignore is hiding your env.py file)\n",
    "\n",
    "3)libraries used are pandas, matplotlib, seaborn, numpy, sklearn,scipy, math.\n",
    "\n",
    "4)you should be able to run Similar Log Error Preditions.\n"
   ]
  },
  {
   "cell_type": "code",
   "execution_count": null,
   "metadata": {},
   "outputs": [],
   "source": []
  }
 ],
 "metadata": {
  "kernelspec": {
   "display_name": "Python 3 (ipykernel)",
   "language": "python",
   "name": "python3"
  },
  "language_info": {
   "codemirror_mode": {
    "name": "ipython",
    "version": 3
   },
   "file_extension": ".py",
   "mimetype": "text/x-python",
   "name": "python",
   "nbconvert_exporter": "python",
   "pygments_lexer": "ipython3",
   "version": "3.9.12"
  },
  "vscode": {
   "interpreter": {
    "hash": "38cca0c38332a56087b24af0bc80247f4fced29cb4f7f437d91dc159adec9c4e"
   }
  }
 },
 "nbformat": 4,
 "nbformat_minor": 4
}
